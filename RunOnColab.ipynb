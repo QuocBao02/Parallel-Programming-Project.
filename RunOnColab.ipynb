{
 "cells": [
  {
   "cell_type": "code",
   "execution_count": null,
   "metadata": {},
   "outputs": [],
   "source": [
    "# read image\n",
    "import matplotlib.pyplot as plt\n",
    "import matplotlib.image as mimg\n",
    "\n",
    "def show_img(path, name):\n",
    "  img = mimg.imread(path)\n",
    "  plt.imshow(img)\n",
    "  plt.xlabel(name)\n",
    "  plt.show()"
   ]
  },
  {
   "cell_type": "code",
   "execution_count": null,
   "metadata": {},
   "outputs": [],
   "source": [
    "!nvcc host.cu -o host.out\n",
    "!./host.out broadcast.ppm 500"
   ]
  },
  {
   "cell_type": "code",
   "execution_count": null,
   "metadata": {},
   "outputs": [],
   "source": [
    "!nvcc host.cu -o host.out\n",
    "!./host.out broadcast.ppm 500\n",
    "\n",
    "show_img(\"/content/broadcast.ppm\", \"original image\")\n",
    "show_img(\"/content/out_host_rgb.ppm\", \"host resize image\")\n",
    "show_img(\"/content/out_device_rgb.ppm\", \"device resize image\")\n",
    "show_img(\"/content/out_device_v1_rgb.ppm\", \"device resize v1 image\")"
   ]
  },
  {
   "cell_type": "code",
   "execution_count": null,
   "metadata": {},
   "outputs": [],
   "source": [
    "!nvcc host.cu -o host.out\n",
    "!./host.out lady.ppm 400\n",
    "\n",
    "show_img(\"/content/lady.ppm\", \"original image\")\n",
    "show_img(\"/content/out_host_rgb.ppm\", \"host resize image\")\n",
    "show_img(\"/content/out_device_rgb.ppm\", \"device resize image\")\n",
    "show_img(\"/content/out_device_v1_rgb.ppm\", \"device resize v1 image\")"
   ]
  },
  {
   "cell_type": "code",
   "execution_count": null,
   "metadata": {},
   "outputs": [],
   "source": [
    "!nvcc host.cu -o host.out\n",
    "!./host.out clock.ppm 500\n",
    "\n",
    "show_img(\"/content/clock.ppm\", \"original image\")\n",
    "show_img(\"/content/out_host_rgb.ppm\", \"host resize image\")\n",
    "show_img(\"/content/out_device_rgb.ppm\", \"device resize image\")\n",
    "show_img(\"/content/out_device_v1_rgb.ppm\", \"device resize v1 image\")"
   ]
  }
 ],
 "metadata": {
  "language_info": {
   "name": "python"
  }
 },
 "nbformat": 4,
 "nbformat_minor": 2
}
