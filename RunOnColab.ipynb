{
 "cells": [
  {
   "cell_type": "code",
   "execution_count": null,
   "metadata": {},
   "outputs": [],
   "source": [
    "# read image\n",
    "import matplotlib.pyplot as plt\n",
    "import matplotlib.image as mimg\n",
    "\n",
    "def show_img(path, name):\n",
    "  img = mimg.imread(path)\n",
    "  plt.imshow(img)\n",
    "  plt.xlabel(name)\n",
    "  plt.show()"
   ]
  },
  {
   "cell_type": "code",
   "execution_count": null,
   "metadata": {},
   "outputs": [],
   "source": [
    "!nvcc host.cu -o host.out\n",
    "!./host.out original_image.ppm 400"
   ]
  },
  {
   "cell_type": "code",
   "execution_count": null,
   "metadata": {},
   "outputs": [],
   "source": [
    "show_img(\"/content/original_image.ppm\", \"original image\")\n",
    "show_img(\"/content/out_host_rgb.ppm\", \"host resize image\")\n",
    "show_img(\"/content/out_device_rgb.ppm\", \"device resize image\")"
   ]
  }
 ],
 "metadata": {
  "language_info": {
   "name": "python"
  }
 },
 "nbformat": 4,
 "nbformat_minor": 2
}
